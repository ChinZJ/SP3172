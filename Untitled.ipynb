{
 "cells": [
  {
   "cell_type": "code",
   "execution_count": null,
   "id": "98964231",
   "metadata": {
    "scrolled": true
   },
   "outputs": [],
   "source": [
    "import time\n",
    "from multiprocessing import Pool\n",
    "\n",
    "class MultiProcessor:\n",
    "    def __init__(self):\n",
    "        pass\n",
    "#         self.pool = Pool(processes = 4)\n",
    "\n",
    "    def square(self, x):\n",
    "        print(f\"start process {x}\")\n",
    "        square = x * x\n",
    "        time.sleep(1)\n",
    "        print(f\"end process {x}\")\n",
    "        return square\n",
    "\n",
    "    def process(self, data):\n",
    "        pool = Pool(processes = 4)\n",
    "        results = pool.map(self.square, data)\n",
    "        pool.close()\n",
    "        pool.join()\n",
    "        return results\n",
    "    \n",
    "\n",
    "if __name__ == \"__main__\":\n",
    "    processor = MultiProcessor()\n",
    "    a = processor.process(range(0, 5))\n",
    "    print(a)\n"
   ]
  },
  {
   "cell_type": "code",
   "execution_count": null,
   "id": "3dbd26de",
   "metadata": {},
   "outputs": [],
   "source": [
    "import time\n",
    "from multiprocessing import Pool\n",
    "\n",
    "class Runner(object):\n",
    "    def __init__(self):\n",
    "        pass\n",
    "\n",
    "    def func(self, i):\n",
    "        return i * i\n",
    "\n",
    "    def mul(self):\n",
    "        pool = Pool(processes=5)\n",
    "        res = [pool.apply_async(self.func, args=(i,)) for i in range(10)]\n",
    "        for r in res:\n",
    "            print(r.get())\n",
    "\n",
    "\n",
    "runner = Runner()\n",
    "runner.mul()"
   ]
  }
 ],
 "metadata": {
  "hide_input": false,
  "kernelspec": {
   "display_name": "Python 3 (ipykernel)",
   "language": "python",
   "name": "python3"
  },
  "language_info": {
   "codemirror_mode": {
    "name": "ipython",
    "version": 3
   },
   "file_extension": ".py",
   "mimetype": "text/x-python",
   "name": "python",
   "nbconvert_exporter": "python",
   "pygments_lexer": "ipython3",
   "version": "3.9.15"
  },
  "toc": {
   "base_numbering": 1,
   "nav_menu": {},
   "number_sections": true,
   "sideBar": true,
   "skip_h1_title": false,
   "title_cell": "Table of Contents",
   "title_sidebar": "Contents",
   "toc_cell": false,
   "toc_position": {},
   "toc_section_display": true,
   "toc_window_display": false
  },
  "varInspector": {
   "cols": {
    "lenName": 16,
    "lenType": 16,
    "lenVar": 40
   },
   "kernels_config": {
    "python": {
     "delete_cmd_postfix": "",
     "delete_cmd_prefix": "del ",
     "library": "var_list.py",
     "varRefreshCmd": "print(var_dic_list())"
    },
    "r": {
     "delete_cmd_postfix": ") ",
     "delete_cmd_prefix": "rm(",
     "library": "var_list.r",
     "varRefreshCmd": "cat(var_dic_list()) "
    }
   },
   "types_to_exclude": [
    "module",
    "function",
    "builtin_function_or_method",
    "instance",
    "_Feature"
   ],
   "window_display": false
  }
 },
 "nbformat": 4,
 "nbformat_minor": 5
}
